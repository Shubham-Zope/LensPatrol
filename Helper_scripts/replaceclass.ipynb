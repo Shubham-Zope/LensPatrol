{
 "cells": [
  {
   "cell_type": "code",
   "execution_count": 20,
   "id": "4017090b",
   "metadata": {},
   "outputs": [
    {
     "name": "stdout",
     "output_type": "stream",
     "text": [
      "0 0.593750 0.705556 0.356250 0.2777780\n",
      "15 0.593750 0.705556 0.356250 0.2777780\n"
     ]
    }
   ],
   "source": [
    "import re\n",
    "with open(\"set_B_20385.txt\", \"r+\") as f:\n",
    "    lines = f.readlines()\n",
    "#     print(lines)\n",
    "    for line in lines:\n",
    "        print(line)\n",
    "        numbers = re.findall(\"[0-9.]+\", line)\n",
    "        if numbers:\n",
    "\n",
    "            # Define coordinates\n",
    "            \n",
    "            text = \"{} {} {} {} {}\".format(15, numbers[1], numbers[2], numbers[3], numbers[4])\n",
    "            print(text)\n",
    "            f.truncate(0)\n",
    "            f.close()\n",
    "            sf = open(\"set_B_20385.txt\", \"r+\")\n",
    "            sf.write(text)\n",
    "            sf.close()\n"
   ]
  },
  {
   "cell_type": "code",
   "execution_count": null,
   "id": "700ca745",
   "metadata": {},
   "outputs": [],
   "source": []
  }
 ],
 "metadata": {
  "kernelspec": {
   "display_name": "Python 3 (ipykernel)",
   "language": "python",
   "name": "python3"
  },
  "language_info": {
   "codemirror_mode": {
    "name": "ipython",
    "version": 3
   },
   "file_extension": ".py",
   "mimetype": "text/x-python",
   "name": "python",
   "nbconvert_exporter": "python",
   "pygments_lexer": "ipython3",
   "version": "3.8.6"
  }
 },
 "nbformat": 4,
 "nbformat_minor": 5
}
